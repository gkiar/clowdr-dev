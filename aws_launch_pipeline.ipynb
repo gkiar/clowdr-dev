{
 "cells": [
  {
   "cell_type": "markdown",
   "metadata": {},
   "source": [
    "# AWS Sandbox\n",
    "\n",
    "The script below does the following:\n",
    "1. ($\\checkmark$) Accepts user credentials\n",
    "2. ($\\checkmark$) Creates necessary IAM roles for Clowder, if they don't exist\n",
    "3. ($\\checkmark$) Creates S3 bucket for Clowder data and execution instructions\n",
    "4. ($\\checkmark$) Creates and configures Batch cluster for Clowder, if it doesn't exist\n",
    "5. ($\\times$) Pushes data and execution instructions to S3\n",
    "6. ($\\checkmark$) Launches Clowder driver on Batch"
   ]
  },
  {
   "cell_type": "markdown",
   "metadata": {},
   "source": [
    "## Load packages"
   ]
  },
  {
   "cell_type": "code",
   "execution_count": 1,
   "metadata": {},
   "outputs": [],
   "source": [
    "from botocore.exceptions import *\n",
    "import boto3\n",
    "import json\n",
    "import time\n",
    "import datetime"
   ]
  },
  {
   "cell_type": "markdown",
   "metadata": {},
   "source": [
    "## Start session with credentials"
   ]
  },
  {
   "cell_type": "code",
   "execution_count": 2,
   "metadata": {},
   "outputs": [],
   "source": [
    "cred_file = '/Users/gkiar/Dropbox/keys/sugreg.csv'\n",
    "creds = open(cred_file).read().split('\\n')[1].split(',')\n",
    "session = boto3.Session(aws_access_key_id=creds[0],\n",
    "                        aws_secret_access_key=creds[1],\n",
    "                        region_name=\"us-east-1\")"
   ]
  },
  {
   "cell_type": "code",
   "execution_count": 3,
   "metadata": {},
   "outputs": [],
   "source": [
    "iam = session.client('iam')\n",
    "s3 = session.client('s3')\n",
    "ec2 = session.client('ec2')\n",
    "batch = session.client('batch')"
   ]
  },
  {
   "cell_type": "markdown",
   "metadata": {},
   "source": [
    "## Configure IAM roles\n"
   ]
  },
  {
   "cell_type": "code",
   "execution_count": 5,
   "metadata": {},
   "outputs": [
    {
     "name": "stdout",
     "output_type": "stream",
     "text": [
      "arn:aws:iam::654604674712:role/clowdr-batch\n",
      "arn:aws:iam::654604674712:role/clowdr-ecs\n"
     ]
    }
   ],
   "source": [
    "with open('./templates/roles.json') as fhandle:\n",
    "    roles = json.load(fhandle)\n",
    "\n",
    "policies = ['arn:aws:iam::aws:policy/service-role/AWSBatchServiceRole',\n",
    "            'arn:aws:iam::aws:policy/service-role/AmazonEC2ContainerServiceforEC2Role']\n",
    "\n",
    "for idx, rolename in enumerate(roles):\n",
    "    role = roles[rolename]\n",
    "    try:\n",
    "        name = role['RoleName']\n",
    "        response = iam.get_role(RoleName=name)\n",
    "        role['Arn'] = response['Role']['Arn']\n",
    "    \n",
    "    except ClientError as e:\n",
    "        if e.response['Error']['Code'] == 'NoSuchEntity':\n",
    "            print(\"Role \\\"{}\\\" not found - making role...\".format(name))\n",
    "            role['AssumeRolePolicyDocument'] = '{}'.format(role['AssumeRolePolicyDocument']).replace('\\'', '\"')\n",
    "            response = iam.create_role(**role)\n",
    "            role['Arn'] = response['Role']['Arn']\n",
    "            iam.create_instance_profile(InstanceProfileName=name)\n",
    "            iam.add_role_to_instance_profile(InstanceProfileName=name, RoleName=name)\n",
    "\n",
    "            iam.attach_role_policy(RoleName=name,\n",
    "                                   PolicyArn=policies[idx])\n",
    "            roles[rolename] = role\n",
    "    \n",
    "    print(roles[rolename]['Arn'])"
   ]
  },
  {
   "cell_type": "markdown",
   "metadata": {},
   "source": [
    "## Create S3 bucket"
   ]
  },
  {
   "cell_type": "code",
   "execution_count": 6,
   "metadata": {},
   "outputs": [
    {
     "name": "stdout",
     "output_type": "stream",
     "text": [
      "/clowdr-storage\n"
     ]
    }
   ],
   "source": [
    "ts = time.time()\n",
    "dt = datetime.datetime.fromtimestamp(ts).strftime('%Y%m%d%H%M%S')\n",
    "\n",
    "buckname = 'clowdr-storage'\n",
    "dpath = dt\n",
    "\n",
    "buckets = [buck['Name'] for buck in s3.list_buckets()['Buckets']]\n",
    "\n",
    "if buckname in buckets:\n",
    "    print('/{}'.format(buckname))\n",
    "else:\n",
    "    response = s3.create_bucket(\n",
    "        ACL='public-read-write',\n",
    "        Bucket=buckname\n",
    "    )\n",
    "    print(response['Location'])"
   ]
  },
  {
   "cell_type": "markdown",
   "metadata": {},
   "source": [
    "## Configure Batch"
   ]
  },
  {
   "cell_type": "code",
   "execution_count": 7,
   "metadata": {},
   "outputs": [
    {
     "name": "stdout",
     "output_type": "stream",
     "text": [
      "arn:aws:batch:us-east-1:654604674712:compute-environment/clowdr-env\n"
     ]
    }
   ],
   "source": [
    "sg = [sg['GroupId'] for sg in ec2.describe_security_groups()['SecurityGroups'] if sg['GroupName'] == 'default']\n",
    "net = [nets['SubnetId'] for nets in ec2.describe_subnets()['Subnets']]\n",
    "\n",
    "def waitUntilDone(name, status):\n",
    "    try:\n",
    "        curr = batch.describe_compute_environments(computeEnvironments=[name])['computeEnvironments'][0]['status']\n",
    "        if curr == status:\n",
    "            waitUntilDone(status)\n",
    "        else:\n",
    "            return\n",
    "    except:\n",
    "        return\n",
    "\n",
    "with open('./templates/env.json') as fhandle:\n",
    "    compute = json.load(fhandle)\n",
    "\n",
    "try:\n",
    "    name = compute['computeEnvironmentName']\n",
    "    response = batch.describe_compute_environments(computeEnvironments=[name])\n",
    "    if len(response['computeEnvironments']):\n",
    "        if response['computeEnvironments'][0]['status'] != 'VALID' or \\\n",
    "           response['computeEnvironments'][0]['state'] != 'ENABLED':\n",
    "            raise ClientError({'Error': {'Code':'InvalidEnvironment'}}, 'describe_compute_environments')\n",
    "        else:\n",
    "            compute['computeEnvironmentArn'] = response['computeEnvironments'][0]['computeEnvironmentArn']\n",
    "    else:\n",
    "        raise ClientError({\"Error\":{\"Code\":\"NoSuchEntity\"}}, 'describe_compute_environments')\n",
    "\n",
    "except ClientError as e:\n",
    "    if e.response['Error']['Code'] == 'InvalidEnvironment':\n",
    "        print(\"Environment \\\"{}\\\" invalid - deleting environment...\".format(name))\n",
    "        response = batch.update_compute_environment(computeEnvironment=name, state='DISABLED')\n",
    "        waitUntilDone(name, 'UPDATING')\n",
    "        response = batch.delete_compute_environment(computeEnvironment=name)\n",
    "        waitUntilDone(name, 'DELETING')\n",
    "\n",
    "    if e.response['Error']['Code'] == 'NoSuchEntity' or e.response['Error']['Code'] == 'InvalidEnvironment':\n",
    "        print(\"Environment \\\"{}\\\" not found - creating environment...\".format(name))\n",
    "        compute['computeResources']['subnets'] = net\n",
    "        compute['computeResources']['securityGroupIds'] = sg\n",
    "        compute['computeResources']['instanceRole'] = roles['ecs']['Arn'].replace('role', 'instance-profile')\n",
    "        compute['serviceRole'] = roles['batch']['Arn']\n",
    "\n",
    "        response = batch.create_compute_environment(**compute)\n",
    "        waitUntilDone(name, 'CREATING')\n",
    "        compute['computeEnvironmentArn'] = response['computeEnvironmentArn']\n",
    "\n",
    "print(compute['computeEnvironmentArn'])"
   ]
  },
  {
   "cell_type": "code",
   "execution_count": 13,
   "metadata": {},
   "outputs": [
    {
     "name": "stdout",
     "output_type": "stream",
     "text": [
      "arn:aws:batch:us-east-1:654604674712:job-queue/test-crn\n"
     ]
    }
   ],
   "source": [
    "with open('./templates/queue.json') as fhandle:\n",
    "    queue = json.load(fhandle)\n",
    "\n",
    "try:\n",
    "    name = queue['jobQueueName']\n",
    "    response = batch.describe_job_queues()\n",
    "    if not len(response['jobQueues']):\n",
    "        raise ClientError({\"Error\":{\"Code\":\"NoSuchEntity\"}}, 'describe_job_queues')\n",
    "    else:\n",
    "        queue_names = [response['jobQueues'][i]['jobQueueName']\n",
    "                       for i in range(len(response['jobQueues']))]\n",
    "        if name not in queue_names:\n",
    "            raise ClientError({\"Error\":{\"Code\":\"NoSuchEntity\"}}, 'describe_job_queues')\n",
    "        queue['jobQueueArn'] = response['jobQueues'][0]['jobQueueArn']\n",
    "except ClientError as e:\n",
    "    print(e)\n",
    "    if e.response['Error']['Code'] == 'NoSuchEntity':\n",
    "        print(\"Queue \\\"{}\\\" not found - creating queue...\".format(name))\n",
    "        response = batch.create_job_queue(**queue)\n",
    "        queue['jobQueueArn'] = response['jobQueueArn']\n",
    "\n",
    "print(queue['jobQueueArn'])"
   ]
  },
  {
   "cell_type": "code",
   "execution_count": 16,
   "metadata": {},
   "outputs": [
    {
     "name": "stdout",
     "output_type": "stream",
     "text": [
      "arn:aws:batch:us-east-1:654604674712:job-definition/clowdr:4\n"
     ]
    }
   ],
   "source": [
    "# task = {'name': 'clowder-driver'}\n",
    "with open('./templates/def.json') as fhandle:\n",
    "    job = json.load(fhandle)\n",
    "\n",
    "try:\n",
    "    name = job['jobDefinitionName']\n",
    "    response = batch.describe_job_definitions()\n",
    "    if not len(response['jobDefinitions']) or response['jobDefinitions'][0]['status'] == 'INACTIVE':\n",
    "        raise ClientError({\"Error\":{\"Code\":\"NoSuchEntity\"}}, 'describe_job_definitions')\n",
    "    else:\n",
    "        job['jobDefinitionArn'] = response['jobDefinitions'][0]['jobDefinitionArn']\n",
    "except ClientError as e:\n",
    "    if e.response['Error']['Code'] == 'NoSuchEntity':\n",
    "        print(\"Job \\\"{}\\\" not found - creating job...\".format(name))\n",
    "        response = batch.register_job_definition(**job)\n",
    "        job['jobDefinitionArn'] = response['jobDefinitionArn']\n",
    "\n",
    "print(job['jobDefinitionArn'])"
   ]
  },
  {
   "cell_type": "code",
   "execution_count": 17,
   "metadata": {
    "collapsed": true
   },
   "outputs": [],
   "source": [
    "orides = {\"environment\":[{\"name\":\"AWS_ACCESS_KEY_ID\",\"value\":creds[0]},\n",
    "                         {\"name\":\"AWS_SECRET_ACCESS_KEY\",\"value\":creds[1]}]}\n",
    "response = batch.submit_job(jobName=\"testing-2\", jobQueue=\"clowdr-q\",\n",
    "                            jobDefinition=\"clowdr\",\n",
    "                            containerOverrides=orides)"
   ]
  },
  {
   "cell_type": "code",
   "execution_count": 18,
   "metadata": {},
   "outputs": [
    {
     "name": "stdout",
     "output_type": "stream",
     "text": [
      "SUBMITTED\n",
      "RUNNABLE\n",
      "RUNNABLE\n",
      "RUNNABLE\n",
      "RUNNABLE\n",
      "STARTING\n",
      "SUCCEEDED\n"
     ]
    }
   ],
   "source": [
    "jid = response['jobId']\n",
    "while True:\n",
    "    stat = batch.describe_jobs(jobs=[jid])['jobs'][0]['status']\n",
    "    print(stat)\n",
    "    if stat == 'SUCCEEDED' or stat == 'FAILED':\n",
    "        break;\n",
    "    else:\n",
    "        time.sleep(30)"
   ]
  },
  {
   "cell_type": "code",
   "execution_count": null,
   "metadata": {
    "collapsed": true
   },
   "outputs": [],
   "source": []
  }
 ],
 "metadata": {
  "kernelspec": {
   "display_name": "Python 3",
   "language": "python",
   "name": "python3"
  },
  "language_info": {
   "codemirror_mode": {
    "name": "ipython",
    "version": 3
   },
   "file_extension": ".py",
   "mimetype": "text/x-python",
   "name": "python",
   "nbconvert_exporter": "python",
   "pygments_lexer": "ipython3",
   "version": "3.6.1"
  }
 },
 "nbformat": 4,
 "nbformat_minor": 2
}
